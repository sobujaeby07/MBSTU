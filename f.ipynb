{
  "nbformat": 4,
  "nbformat_minor": 0,
  "metadata": {
    "colab": {
      "provenance": [],
      "authorship_tag": "ABX9TyMTQ5sIfoXEPyuMDL2BKICq",
      "include_colab_link": true
    },
    "kernelspec": {
      "name": "python3",
      "display_name": "Python 3"
    },
    "language_info": {
      "name": "python"
    }
  },
  "cells": [
    {
      "cell_type": "markdown",
      "metadata": {
        "id": "view-in-github",
        "colab_type": "text"
      },
      "source": [
        "<a href=\"https://colab.research.google.com/github/sobujaeby07/MBSTU/blob/main/f.ipynb\" target=\"_parent\"><img src=\"https://colab.research.google.com/assets/colab-badge.svg\" alt=\"Open In Colab\"/></a>"
      ]
    },
    {
      "cell_type": "code",
      "execution_count": 4,
      "metadata": {
        "colab": {
          "base_uri": "https://localhost:8080/"
        },
        "id": "UP-_qZJQ12FA",
        "outputId": "435f24f8-2227-4f9a-e2fc-088065b2b0b0"
      },
      "outputs": [
        {
          "output_type": "stream",
          "name": "stdout",
          "text": [
            "His name is John and he is26 years old\n",
            "his name is John and he is 26 years old\n"
          ]
        }
      ],
      "source": [
        "name = \"John\"\n",
        "age = 26\n",
        "txt = \"His name is {} and he is{} years old\"\n",
        "print(txt.format(name, age))  #altenative way\n",
        "print(f'his name is {name} and he is {age} years old')"
      ]
    }
  ]
}